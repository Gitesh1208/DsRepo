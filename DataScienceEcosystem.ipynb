{
 "cells": [
  {
   "cell_type": "markdown",
   "id": "cbd37517",
   "metadata": {},
   "source": [
    "# Data Science Tools and Ecosystem"
   ]
  },
  {
   "cell_type": "markdown",
   "id": "0291d458",
   "metadata": {},
   "source": [
    "In this notebook, Data Science Tools and Ecosystem are summarized."
   ]
  },
  {
   "cell_type": "markdown",
   "id": "47d0d44e",
   "metadata": {},
   "source": [
    "__Objectives:__\n",
    "- List of popular languages for Data Science\n",
    "- List of commonly used Libraries in Data science\n",
    "- List of Data science tools\n",
    "- Arithetic expressions in python"
   ]
  },
  {
   "cell_type": "markdown",
   "id": "dd284d21",
   "metadata": {},
   "source": [
    "Some of the popular languages that Data Scientists use are:\n",
    "1. Python\n",
    "2. R language\n",
    "3. Julia\n",
    "4. Scala\n",
    "5. c++\n"
   ]
  },
  {
   "cell_type": "markdown",
   "id": "fc617881",
   "metadata": {},
   "source": [
    "Some of the commonly used libraries used by Data Scientists include:\n",
    "1. Pandas\n",
    "2. Numpy\n",
    "3. ggplot\n",
    "4. Matplotlib\n",
    "5. Caret"
   ]
  },
  {
   "cell_type": "markdown",
   "id": "122debdf",
   "metadata": {},
   "source": [
    "|Data Science Tools|\n",
    "-------------------\n",
    "|Rstudio|\n",
    "|Tenserflow|\n",
    "|Apache spark|\n",
    "|Hadoop|"
   ]
  },
  {
   "cell_type": "markdown",
   "id": "a08732b8",
   "metadata": {},
   "source": [
    "### Below are a few examples of evaluating arithmetic expressions in Python\n"
   ]
  },
  {
   "cell_type": "code",
   "execution_count": 3,
   "id": "428a8ac5",
   "metadata": {},
   "outputs": [
    {
     "data": {
      "text/plain": [
       "17"
      ]
     },
     "execution_count": 3,
     "metadata": {},
     "output_type": "execute_result"
    }
   ],
   "source": [
    " #This a simple arithmetic expression to mutiply then add integers\n",
    "(3*4)+5"
   ]
  },
  {
   "cell_type": "code",
   "execution_count": 5,
   "id": "8e75e95b",
   "metadata": {},
   "outputs": [
    {
     "name": "stdout",
     "output_type": "stream",
     "text": [
      "3.3333333333333335 Hours\n"
     ]
    }
   ],
   "source": [
    "#This will convert 200 minutes to hours by diving by 60\n",
    "print(200/60,\"Hours\")\n"
   ]
  },
  {
   "cell_type": "markdown",
   "id": "2f64dacb",
   "metadata": {},
   "source": [
    "## Author\n",
    "Gitesh"
   ]
  },
  {
   "cell_type": "code",
   "execution_count": null,
   "id": "159c698f",
   "metadata": {},
   "outputs": [],
   "source": []
  }
 ],
 "metadata": {
  "kernelspec": {
   "display_name": "Python 3 (ipykernel)",
   "language": "python",
   "name": "python3"
  },
  "language_info": {
   "codemirror_mode": {
    "name": "ipython",
    "version": 3
   },
   "file_extension": ".py",
   "mimetype": "text/x-python",
   "name": "python",
   "nbconvert_exporter": "python",
   "pygments_lexer": "ipython3",
   "version": "3.9.13"
  }
 },
 "nbformat": 4,
 "nbformat_minor": 5
}
